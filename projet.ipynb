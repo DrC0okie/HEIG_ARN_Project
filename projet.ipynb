{
 "cells": [
  {
   "cell_type": "markdown",
   "metadata": {},
   "source": [
    "# Project Notebook"
   ]
  },
  {
   "cell_type": "markdown",
   "metadata": {},
   "source": [
    "### Generate label and dataframe from the downloaded images"
   ]
  },
  {
   "cell_type": "code",
   "execution_count": null,
   "metadata": {
    "ExecuteTime": {
     "end_time": "2024-06-15T21:54:45.071782Z",
     "start_time": "2024-06-15T21:54:45.051246Z"
    }
   },
   "outputs": [],
   "source": [
    "import os\n",
    "import pandas as pd\n",
    "\n",
    "QUERIES = [\"cpp\", \"hs\", \"py\"]\n",
    "directory = \"./raw_data/img/cropped_images/\"\n",
    "data = []\n",
    "label = \"\"\n",
    "for file in os.listdir(directory):\n",
    "    if(file.startswith(\"cpp\")):\n",
    "        label = \"cpp\"\n",
    "    elif(file.startswith(\"hs\")):\n",
    "        label = \"hs\"\n",
    "    elif(file.startswith(\"py\")):\n",
    "        label = \"py\"    \n",
    "    \n",
    "    data.append([os.path.join(directory, file), label])\n",
    "dataframe = pd.DataFrame(data, columns=[\"path\", \"label\"])\n",
    "print(dataframe)"
   ]
  },
  {
   "cell_type": "markdown",
   "metadata": {},
   "source": [
    "### Show some images of the dataset"
   ]
  },
  {
   "cell_type": "code",
   "execution_count": null,
   "metadata": {
    "ExecuteTime": {
     "end_time": "2024-06-15T21:54:47.758454Z",
     "start_time": "2024-06-15T21:54:45.262773Z"
    }
   },
   "outputs": [],
   "source": [
    "import matplotlib.pyplot as plt\n",
    "import PIL\n",
    "import PIL.Image\n",
    " \n",
    "plt.figure(figsize=(20, 20))\n",
    "\n",
    "i = 0\n",
    "for _, rowdata in dataframe.sample(frac=1).head(9).iterrows():\n",
    "    ax = plt.subplot(3, 3, i + 1)\n",
    "    plt.imshow(PIL.Image.open(rowdata.path))\n",
    "    plt.title(rowdata.label)\n",
    "    plt.axis(\"off\")\n",
    "    i += 1"
   ]
  },
  {
   "cell_type": "markdown",
   "metadata": {},
   "source": [
    "## Fetch MobileNetV2 model"
   ]
  },
  {
   "cell_type": "code",
   "execution_count": null,
   "metadata": {
    "ExecuteTime": {
     "end_time": "2024-06-15T21:54:48.193694Z",
     "start_time": "2024-06-15T21:54:47.759955Z"
    }
   },
   "outputs": [],
   "source": [
    "import tensorflow\n",
    "from tensorflow.keras.applications import MobileNetV2\n",
    "\n",
    "base_model = MobileNetV2(\n",
    "    input_shape=(224, 224, 3),\n",
    "    weights='imagenet',\n",
    "    include_top=False # We don't want to include the fully-connected layers\n",
    ")"
   ]
  },
  {
   "cell_type": "code",
   "execution_count": null,
   "metadata": {
    "ExecuteTime": {
     "end_time": "2024-06-15T21:54:48.209224Z",
     "start_time": "2024-06-15T21:54:48.195707Z"
    }
   },
   "outputs": [],
   "source": [
    "# You can see the list of layers of this model\n",
    "base_model.layers"
   ]
  },
  {
   "cell_type": "code",
   "execution_count": null,
   "metadata": {
    "ExecuteTime": {
     "end_time": "2024-06-15T21:54:48.224755Z",
     "start_time": "2024-06-15T21:54:48.212226Z"
    }
   },
   "outputs": [],
   "source": [
    "from tensorflow.keras.optimizers import Adam\n",
    "from tensorflow.keras.losses import SparseCategoricalCrossentropy\n",
    "from tensorflow.keras import Model\n",
    "from tensorflow.keras.layers import (\n",
    "    Flatten,\n",
    "    Dense,\n",
    "    Dropout,\n",
    "    BatchNormalization,\n",
    "    GlobalAveragePooling2D\n",
    ")\n",
    "\n",
    "def get_model():\n",
    "    # We want to add layers on top of the base (here MobileNetV2) model\n",
    "    layers = base_model.output\n",
    "\n",
    "    # We need to flatten\n",
    "    layers = Flatten()(layers)\n",
    "    # layers = GlobalAveragePooling2D()(layers)\n",
    "\n",
    "\n",
    "     # Add dense layers with batch normalization and dropout\n",
    "    layers = Dense(64, activation='relu')(layers)\n",
    "    layers = Dropout(0.5)(layers)\n",
    "    layers = Dense(64, activation='relu')(layers)\n",
    "    layers = Dropout(0.5)(layers)\n",
    "    # layers = Dense(48, activation='relu')(layers)\n",
    "    # layers = Dropout(0.2)(layers)\n",
    "    \n",
    "    # layers = Dense(128, activation='relu')(layers)\n",
    "    # layers = Dropout(0.5)(layers)\n",
    "    # We must add an output layer\n",
    "    output = Dense(len(QUERIES), activation='softmax')(layers) # final layer with softmax activation\n",
    "\n",
    "    model = Model(inputs=base_model.input, outputs=output)\n",
    "\n",
    "    #Freeze the base model\n",
    "    for layer in base_model.layers:\n",
    "      layer.trainable = False\n",
    "\n",
    "\n",
    "    for layer in base_model.layers[-96:]:\n",
    "        layer.trainable = True\n",
    "    # Dégeler quelques couches du modèle de base et continuer l'entraînement\n",
    "    # for layer in base_model.layers[-10:]:\n",
    "    #   layer.trainable = True\n",
    "    \n",
    "    model.compile(\n",
    "      optimizer = Adam(learning_rate=0.0001),\n",
    "      # Sparse categorical crossentropy is used when we have target class as integers\n",
    "      loss = SparseCategoricalCrossentropy(),\n",
    "      metrics = ['acc']\n",
    "    )\n",
    "        \n",
    "    return model"
   ]
  },
  {
   "cell_type": "code",
   "execution_count": null,
   "metadata": {
    "ExecuteTime": {
     "end_time": "2024-06-15T21:54:48.426218Z",
     "start_time": "2024-06-15T21:54:48.226764Z"
    }
   },
   "outputs": [],
   "source": [
    "get_model().summary()"
   ]
  },
  {
   "cell_type": "markdown",
   "metadata": {},
   "source": [
    "## Cross validate model"
   ]
  },
  {
   "cell_type": "code",
   "execution_count": null,
   "metadata": {
    "ExecuteTime": {
     "end_time": "2024-06-15T21:54:48.441729Z",
     "start_time": "2024-06-15T21:54:48.428218Z"
    }
   },
   "outputs": [],
   "source": [
    "from tensorflow.keras.layers import Resizing, Rescaling\n",
    "from tensorflow.keras import Sequential\n",
    "\n",
    "IMG_HEIGHT = 224\n",
    "IMG_WIDTH = 224\n",
    "\n",
    "image_preprocesses = Sequential([\n",
    "    Resizing(IMG_HEIGHT, IMG_WIDTH, crop_to_aspect_ratio=True),\n",
    "    Rescaling(1. / 255)\n",
    "])"
   ]
  },
  {
   "cell_type": "code",
   "execution_count": null,
   "metadata": {
    "ExecuteTime": {
     "end_time": "2024-06-15T21:54:48.457275Z",
     "start_time": "2024-06-15T21:54:48.443731Z"
    }
   },
   "outputs": [],
   "source": [
    "def open_images(paths):\n",
    "    images = []\n",
    "    for path in paths:\n",
    "        with PIL.Image.open(path).convert('RGB') as image:\n",
    "            images.append(image_preprocesses(np.asarray(image)))\n",
    "            \n",
    "    return np.stack(images)"
   ]
  },
  {
   "cell_type": "code",
   "execution_count": null,
   "metadata": {
    "ExecuteTime": {
     "end_time": "2024-06-15T21:59:45.527625Z",
     "start_time": "2024-06-15T21:54:48.459274Z"
    }
   },
   "outputs": [],
   "source": [
    "import numpy as np\n",
    "import tensorflow as tf\n",
    "from sklearn.model_selection import KFold\n",
    "from sklearn.preprocessing import LabelEncoder\n",
    "from sklearn.model_selection import train_test_split\n",
    "\n",
    "shuffled_dataset = dataframe.sample(frac=1, random_state=1234).reset_index(drop=True)\n",
    "\n",
    "dataset_paths = shuffled_dataset['path'].to_numpy()\n",
    "dataset_labels = shuffled_dataset['label'].to_numpy()\n",
    "\n",
    "total_train_paths, test_paths, total_train_labels, test_labels = train_test_split(\n",
    "    dataset_paths, dataset_labels, test_size=0.2, random_state=1234\n",
    ")\n",
    "\n",
    "# We need to convert from string labels to integers\n",
    "label_encoder = LabelEncoder()\n",
    "label_encoder.fit(dataset_labels)\n",
    "total_train_labels = label_encoder.transform(total_train_labels)\n",
    "test_labels = label_encoder.transform(test_labels)\n",
    "\n",
    "NB_EPOCHS = 6\n",
    "\n",
    "train_losses = []\n",
    "train_accuracies = []\n",
    "val_losses = []\n",
    "val_accuracies = []\n",
    "\n",
    "for train_index, val_index in KFold(n_splits=5).split(total_train_paths, total_train_labels):\n",
    "    train_images = open_images(total_train_paths[train_index])    \n",
    "    train_labels = total_train_labels[train_index]\n",
    "    \n",
    "    val_images = open_images(total_train_paths[val_index])\n",
    "    val_labels = total_train_labels[val_index]\n",
    "    \n",
    "    model = get_model() # We reinitialize the model\n",
    "    \n",
    "    history = model.fit(\n",
    "        x=train_images,\n",
    "        y=train_labels,\n",
    "        batch_size=16,\n",
    "        validation_data=[val_images, val_labels],\n",
    "        epochs=NB_EPOCHS,\n",
    "    )\n",
    "\n",
    "    \n",
    "    train_losses.append(history.history['loss'])\n",
    "    val_losses.append(history.history['val_loss'])\n",
    "    train_accuracies.append(history.history['acc'])\n",
    "    val_accuracies.append(history.history['val_acc'])"
   ]
  },
  {
   "cell_type": "code",
   "execution_count": null,
   "metadata": {
    "ExecuteTime": {
     "end_time": "2024-06-15T21:59:45.543798Z",
     "start_time": "2024-06-15T21:59:45.530625Z"
    }
   },
   "outputs": [],
   "source": [
    "def plot_kfold_mean_performance(ax, train_performances, val_performances, measure_name):\n",
    "    train_mean = np.mean(train_performances, axis=0)\n",
    "    val_mean = np.mean(val_performances, axis=0)\n",
    "    train_sd = np.std(train_performances, axis=0)\n",
    "    val_sd = np.std(val_performances, axis=0)\n",
    "    \n",
    "    ax.fill_between(np.arange(NB_EPOCHS), train_mean, train_mean+train_sd, facecolor='blue', alpha=0.5, label='Train')\n",
    "    ax.fill_between(np.arange(NB_EPOCHS), train_mean, train_mean-train_sd, facecolor='blue', alpha=0.5)\n",
    "\n",
    "    ax.fill_between(np.arange(NB_EPOCHS), val_mean, val_mean+val_sd, facecolor='orange', alpha=0.5, label='Val')\n",
    "    ax.fill_between(np.arange(NB_EPOCHS), val_mean, val_mean-val_sd, facecolor='orange', alpha=0.5)\n",
    "\n",
    "    ax.set_xticks(np.arange(NB_EPOCHS))\n",
    "\n",
    "    ax.set_ylabel(measure_name)\n",
    "    ax.set_xlabel('Number of epochs')\n",
    "    #pl.title(str(K)+'-fold CV with '+str(n)+' hidden neurons')\n",
    "    ax.legend()\n",
    "    ax.grid()\n"
   ]
  },
  {
   "cell_type": "code",
   "execution_count": null,
   "metadata": {
    "ExecuteTime": {
     "end_time": "2024-06-15T21:59:45.916364Z",
     "start_time": "2024-06-15T21:59:45.550319Z"
    }
   },
   "outputs": [],
   "source": [
    "import matplotlib.pyplot as pl\n",
    "\n",
    "fig, axs = plt.subplots(2, 1, constrained_layout=True, figsize=(12,6))\n",
    "\n",
    "plot_kfold_mean_performance(axs[0], train_losses, val_losses, \"Loss\")\n",
    "plot_kfold_mean_performance(axs[1], train_accuracies, val_accuracies, \"Accuracy\")"
   ]
  },
  {
   "cell_type": "markdown",
   "metadata": {},
   "source": [
    "## Evaluate model on test set"
   ]
  },
  {
   "cell_type": "code",
   "execution_count": null,
   "metadata": {
    "ExecuteTime": {
     "end_time": "2024-06-15T22:00:51.033299Z",
     "start_time": "2024-06-15T21:59:45.918864Z"
    }
   },
   "outputs": [],
   "source": [
    "# First retrain model on all the training data\n",
    "train_images = open_images(total_train_paths)    \n",
    "train_labels = total_train_labels\n",
    "\n",
    "model = get_model() # We reinitialize the model\n",
    "\n",
    "history = model.fit(\n",
    "    x=train_images,\n",
    "    y=train_labels,\n",
    "    batch_size=16,\n",
    "    epochs=NB_EPOCHS,\n",
    ")"
   ]
  },
  {
   "cell_type": "code",
   "execution_count": null,
   "metadata": {
    "ExecuteTime": {
     "end_time": "2024-06-15T22:00:51.916895Z",
     "start_time": "2024-06-15T22:00:51.036296Z"
    }
   },
   "outputs": [],
   "source": [
    "# Empty a bit the memory\n",
    "import gc\n",
    "\n",
    "del train_images\n",
    "del train_labels\n",
    "gc.collect()"
   ]
  },
  {
   "cell_type": "code",
   "execution_count": null,
   "metadata": {
    "ExecuteTime": {
     "end_time": "2024-06-15T22:00:56.954113Z",
     "start_time": "2024-06-15T22:00:51.919897Z"
    }
   },
   "outputs": [],
   "source": [
    "import sklearn.metrics as me\n",
    "test_images = open_images(test_paths)    \n",
    "\n",
    "pred = model.predict(test_images)\n",
    "pred = np.argmax(pred, axis=-1)\n",
    "\n",
    "test_confusion_matrix = me.confusion_matrix(test_labels, pred, labels=np.arange(len(QUERIES)))\n",
    "f1_score = me.f1_score(test_labels, pred, average='weighted')\n",
    "print(\"F1_score: \", f1_score)"
   ]
  },
  {
   "cell_type": "code",
   "execution_count": null,
   "metadata": {
    "ExecuteTime": {
     "end_time": "2024-06-15T22:00:57.078135Z",
     "start_time": "2024-06-15T22:00:56.956115Z"
    }
   },
   "outputs": [],
   "source": [
    "confusion_matrix_display = me.ConfusionMatrixDisplay(\n",
    "    confusion_matrix=test_confusion_matrix,\n",
    "    display_labels=QUERIES,\n",
    ")\n",
    "\n",
    "confusion_matrix_display.plot(xticks_rotation='vertical')\n",
    "plt.show()"
   ]
  },
  {
   "cell_type": "markdown",
   "metadata": {},
   "source": [
    "# GRAD-CAM HEATMAP"
   ]
  },
  {
   "cell_type": "code",
   "execution_count": null,
   "metadata": {
    "ExecuteTime": {
     "end_time": "2024-06-15T22:00:57.093633Z",
     "start_time": "2024-06-15T22:00:57.080136Z"
    }
   },
   "outputs": [],
   "source": [
    "from tensorflow.keras.applications.mobilenet_v2 import preprocess_input, decode_predictions\n",
    "from tensorflow.keras.preprocessing import image\n",
    "\n",
    "def get_gradcam_heatmap(img_array, model, last_conv_layer_name, pred_index=None):\n",
    "    # Create a model that maps the input image to the activations of the last conv layer\n",
    "    # as well as the output predictions\n",
    "    grad_model = Model(\n",
    "        inputs=model.inputs,\n",
    "        outputs=[model.get_layer(last_conv_layer_name).output, model.output]\n",
    "    )\n",
    "    \n",
    "    with tf.GradientTape() as tape:\n",
    "        conv_outputs, predictions = grad_model(img_array)\n",
    "        if pred_index is None:\n",
    "            pred_index = tf.argmax(predictions[0])\n",
    "        class_channel = predictions[:, pred_index]\n",
    "    \n",
    "    # Compute the gradient of the top predicted class for the input image\n",
    "    # with respect to the activations of the last conv layer\n",
    "    grads = tape.gradient(class_channel, conv_outputs)\n",
    "    \n",
    "    # Pool the gradients over all the axes\n",
    "    pooled_grads = tf.reduce_mean(grads, axis=(0, 1, 2))\n",
    "    \n",
    "    # Weigh the output feature map of the last conv layer with the pooled gradients\n",
    "    conv_outputs = conv_outputs[0]\n",
    "    heatmap = conv_outputs @ pooled_grads[..., tf.newaxis]\n",
    "    heatmap = tf.squeeze(heatmap)\n",
    "    \n",
    "    # Apply ReLU to the heatmap (eliminate negative values)\n",
    "    heatmap = tf.maximum(heatmap, 0) / tf.math.reduce_max(heatmap)\n",
    "    \n",
    "    return heatmap.numpy()\n",
    "\n",
    "def display_heatmap(ax, img, heatmap, alpha=0.4):\n",
    "    # Rescale heatmap to a range 0-255\n",
    "    heatmap = np.uint8(255 * heatmap)\n",
    "    \n",
    "    # Use jet colormap to colorize heatmap\n",
    "    jet = plt.cm.get_cmap(\"jet\")\n",
    "    \n",
    "    # Use RGB values of the colormap\n",
    "    jet_colors = jet(np.arange(256))[:, :3]\n",
    "    jet_heatmap = jet_colors[heatmap]\n",
    "    \n",
    "    # Create an image with RGB colorized heatmap\n",
    "    jet_heatmap = image.array_to_img(jet_heatmap)\n",
    "    jet_heatmap = jet_heatmap.resize(img.size)  # Use img.size instead of img.shape\n",
    "    jet_heatmap = image.img_to_array(jet_heatmap)\n",
    "    \n",
    "    # Superimpose the heatmap on original image\n",
    "    superimposed_img = jet_heatmap * alpha + img\n",
    "    superimposed_img = image.array_to_img(superimposed_img)\n",
    "    \n",
    "    # Display the superimposed image on the given axes\n",
    "    ax.imshow(superimposed_img)\n",
    "    ax.axis('off')\n"
   ]
  },
  {
   "cell_type": "code",
   "execution_count": null,
   "metadata": {
    "ExecuteTime": {
     "end_time": "2024-06-15T22:00:59.234150Z",
     "start_time": "2024-06-15T22:00:57.095636Z"
    }
   },
   "outputs": [],
   "source": [
    "import os\n",
    "import random\n",
    "# Update these paths based on your directory structure\n",
    "base_dir = 'raw_data/img/cropped_images/'\n",
    "\n",
    "# Get the current working directory\n",
    "script_dir = os.getcwd()\n",
    "\n",
    "# Classes and their prefixes\n",
    "classes = {\n",
    "    \"cpp\": \"cpp\",\n",
    "    \"hs\": \"hs\",\n",
    "    \"py\": \"py\"\n",
    "}\n",
    "\n",
    "# Number of images per class\n",
    "num_images_per_class = 5\n",
    "\n",
    "# Dictionary to hold selected images for each class\n",
    "selected_images = {cls: [] for cls in classes}\n",
    "\n",
    "# Randomly select 5 images for each class\n",
    "for cls, prefix in classes.items():\n",
    "    all_images = [file for file in os.listdir(base_dir) if file.startswith(prefix) and file.endswith('.png')]\n",
    "    selected_images[cls] = random.sample(all_images, num_images_per_class)\n",
    "\n",
    "# Create a figure for displaying the images and heatmaps\n",
    "fig, axes = plt.subplots(3, 5, figsize=(20, 12))\n",
    "\n",
    "# Flatten axes array for easier indexing\n",
    "axes = axes.flatten()\n",
    "\n",
    "# Counter to keep track of the subplot index\n",
    "ax_idx = 0\n",
    "\n",
    "# Display images and heatmaps\n",
    "for cls, images in selected_images.items():\n",
    "    for img_file in images:\n",
    "        img_path = os.path.join(script_dir, base_dir, img_file)\n",
    "        \n",
    "        # Preprocess the image\n",
    "        img = image.load_img(img_path, target_size=(224, 224))\n",
    "        img_array = image.img_to_array(img)\n",
    "        img_array = np.expand_dims(img_array, axis=0)\n",
    "        img_array = preprocess_input(img_array)\n",
    "\n",
    "        # Generate heatmap\n",
    "        last_conv_layer_name = \"Conv_1_bn\"  # This may change based on your model architecture\n",
    "        heatmap = get_gradcam_heatmap(img_array, model, last_conv_layer_name)\n",
    "\n",
    "        # Display image and heatmap\n",
    "        display_heatmap(axes[ax_idx], img, heatmap)\n",
    "        ax_idx += 1\n",
    "\n",
    "plt.tight_layout()\n",
    "plt.show()"
   ]
  }
 ],
 "metadata": {
  "accelerator": "GPU",
  "colab": {
   "collapsed_sections": [],
   "name": "TransferLearning.ipynb",
   "provenance": []
  },
  "kernelspec": {
   "display_name": "Python 3 (ipykernel)",
   "language": "python",
   "name": "python3"
  },
  "language_info": {
   "codemirror_mode": {
    "name": "ipython",
    "version": 3
   },
   "file_extension": ".py",
   "mimetype": "text/x-python",
   "name": "python",
   "nbconvert_exporter": "python",
   "pygments_lexer": "ipython3",
   "version": "3.11.4"
  }
 },
 "nbformat": 4,
 "nbformat_minor": 4
}
